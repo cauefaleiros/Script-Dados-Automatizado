{
 "cells": [
  {
   "cell_type": "code",
   "execution_count": 5,
   "metadata": {},
   "outputs": [],
   "source": [
    "from selenium import webdriver\n",
    "from webdriver_manager.chrome import ChromeDriverManager\n",
    "from selenium.webdriver.chrome.service import Service\n",
    "\n",
    "service = Service(ChromeDriverManager().install())\n",
    "nav = webdriver.Chrome(service=service)\n",
    "\n",
    "user_month = int(input('Digite o mês: '))\n",
    "user_year = int(input('Digite o ano: '))\n",
    "\n",
    "nav.get('https://www.ssp.sp.gov.br/transparenciassp/Consulta2022.aspx')\n",
    "nav.find_element('xpath', '//*[@id=\"cphBody_btnFurtoVeiculo\"]').click()\n",
    "nav.find_element('xpath', f'//*[@id=\"cphBody_lkAno{user_year}\"]').click()\n",
    "nav.find_element('xpath', f'//*[@id=\"cphBody_listMes{user_month}\"]').click()\n",
    "nav.find_element('xpath', '//*[@id=\"cphBody_ExportarBOLink\"]').click()\n",
    "\n",
    "\n"
   ]
  }
 ],
 "metadata": {
  "kernelspec": {
   "display_name": "Python 3",
   "language": "python",
   "name": "python3"
  },
  "language_info": {
   "codemirror_mode": {
    "name": "ipython",
    "version": 3
   },
   "file_extension": ".py",
   "mimetype": "text/x-python",
   "name": "python",
   "nbconvert_exporter": "python",
   "pygments_lexer": "ipython3",
   "version": "3.11.4"
  }
 },
 "nbformat": 4,
 "nbformat_minor": 2
}
